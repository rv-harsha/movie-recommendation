{
  "nbformat": 4,
  "nbformat_minor": 0,
  "metadata": {
    "colab": {
      "name": "Movie_Recommender.ipynb",
      "provenance": [],
      "toc_visible": true,
      "mount_file_id": "1aJANjnzGs8KAA4m8QMyOgm7ZYI1nYFkD",
      "authorship_tag": "ABX9TyP2OTGn44SE+pCSDw8KUJa3",
      "include_colab_link": true
    },
    "kernelspec": {
      "name": "python3",
      "display_name": "Python 3"
    }
  },
  "cells": [
    {
      "cell_type": "markdown",
      "metadata": {
        "id": "view-in-github",
        "colab_type": "text"
      },
      "source": [
        "<a href=\"https://colab.research.google.com/github/akarshn95/Movie_Recommendation_System/blob/master/Movie_Recommender.ipynb\" target=\"_parent\"><img src=\"https://colab.research.google.com/assets/colab-badge.svg\" alt=\"Open In Colab\"/></a>"
      ]
    },
    {
      "cell_type": "markdown",
      "metadata": {
        "id": "-gsxAXjx1Opi",
        "colab_type": "text"
      },
      "source": [
        "# Movie Recommendation System"
      ]
    },
    {
      "cell_type": "code",
      "metadata": {
        "id": "yKEuxD1QtXjj",
        "colab_type": "code",
        "colab": {
          "base_uri": "https://localhost:8080/",
          "height": 72
        },
        "outputId": "47f95dff-eeae-4727-8d88-55e21f9ce5f6"
      },
      "source": [
        "import pandas as pd\n",
        "import numpy as np\n",
        "import matplotlib.pyplot as plt\n",
        "import seaborn as sns\n",
        "from sklearn.feature_extraction.text import TfidfVectorizer\n",
        "from sklearn.feature_extraction.text import CountVectorizer\n",
        "from sklearn.metrics.pairwise import cosine_similarity"
      ],
      "execution_count": 1,
      "outputs": [
        {
          "output_type": "stream",
          "text": [
            "/usr/local/lib/python3.6/dist-packages/statsmodels/tools/_testing.py:19: FutureWarning: pandas.util.testing is deprecated. Use the functions in the public API at pandas.testing instead.\n",
            "  import pandas.util.testing as tm\n"
          ],
          "name": "stderr"
        }
      ]
    },
    {
      "cell_type": "code",
      "metadata": {
        "id": "saBgU2K30k-9",
        "colab_type": "code",
        "colab": {
          "base_uri": "https://localhost:8080/",
          "height": 34
        },
        "outputId": "21dec5b1-ee4e-47bb-dfeb-5065a497415e"
      },
      "source": [
        "%cd /content/drive/My Drive/Kaggle"
      ],
      "execution_count": 2,
      "outputs": [
        {
          "output_type": "stream",
          "text": [
            "/content/drive/My Drive/Kaggle\n"
          ],
          "name": "stdout"
        }
      ]
    },
    {
      "cell_type": "code",
      "metadata": {
        "id": "IkVQ_lon0rsJ",
        "colab_type": "code",
        "colab": {}
      },
      "source": [
        "# load data\n",
        "df1 = pd.read_csv('tmdb_5000_credits.csv')\n",
        "df2 = pd.read_csv('tmdb_5000_movies.csv')"
      ],
      "execution_count": 3,
      "outputs": []
    },
    {
      "cell_type": "code",
      "metadata": {
        "id": "RrdKPvs807JK",
        "colab_type": "code",
        "colab": {}
      },
      "source": [
        "# rename columns to maintain uniform labels\n",
        "df1.columns = ['id','m_title','cast','crew']\n",
        "df = df2.merge(df1,on='id')"
      ],
      "execution_count": 4,
      "outputs": []
    },
    {
      "cell_type": "code",
      "metadata": {
        "id": "Xf3dTg1V09Ci",
        "colab_type": "code",
        "colab": {
          "base_uri": "https://localhost:8080/",
          "height": 634
        },
        "outputId": "50299994-808d-4d58-ac1c-9d953aecffad"
      },
      "source": [
        "df.head()"
      ],
      "execution_count": 5,
      "outputs": [
        {
          "output_type": "execute_result",
          "data": {
            "text/html": [
              "<div>\n",
              "<style scoped>\n",
              "    .dataframe tbody tr th:only-of-type {\n",
              "        vertical-align: middle;\n",
              "    }\n",
              "\n",
              "    .dataframe tbody tr th {\n",
              "        vertical-align: top;\n",
              "    }\n",
              "\n",
              "    .dataframe thead th {\n",
              "        text-align: right;\n",
              "    }\n",
              "</style>\n",
              "<table border=\"1\" class=\"dataframe\">\n",
              "  <thead>\n",
              "    <tr style=\"text-align: right;\">\n",
              "      <th></th>\n",
              "      <th>budget</th>\n",
              "      <th>genres</th>\n",
              "      <th>homepage</th>\n",
              "      <th>id</th>\n",
              "      <th>keywords</th>\n",
              "      <th>original_language</th>\n",
              "      <th>original_title</th>\n",
              "      <th>overview</th>\n",
              "      <th>popularity</th>\n",
              "      <th>production_companies</th>\n",
              "      <th>production_countries</th>\n",
              "      <th>release_date</th>\n",
              "      <th>revenue</th>\n",
              "      <th>runtime</th>\n",
              "      <th>spoken_languages</th>\n",
              "      <th>status</th>\n",
              "      <th>tagline</th>\n",
              "      <th>title</th>\n",
              "      <th>vote_average</th>\n",
              "      <th>vote_count</th>\n",
              "      <th>m_title</th>\n",
              "      <th>cast</th>\n",
              "      <th>crew</th>\n",
              "    </tr>\n",
              "  </thead>\n",
              "  <tbody>\n",
              "    <tr>\n",
              "      <th>0</th>\n",
              "      <td>237000000</td>\n",
              "      <td>[{\"id\": 28, \"name\": \"Action\"}, {\"id\": 12, \"nam...</td>\n",
              "      <td>http://www.avatarmovie.com/</td>\n",
              "      <td>19995</td>\n",
              "      <td>[{\"id\": 1463, \"name\": \"culture clash\"}, {\"id\":...</td>\n",
              "      <td>en</td>\n",
              "      <td>Avatar</td>\n",
              "      <td>In the 22nd century, a paraplegic Marine is di...</td>\n",
              "      <td>150.437577</td>\n",
              "      <td>[{\"name\": \"Ingenious Film Partners\", \"id\": 289...</td>\n",
              "      <td>[{\"iso_3166_1\": \"US\", \"name\": \"United States o...</td>\n",
              "      <td>2009-12-10</td>\n",
              "      <td>2787965087</td>\n",
              "      <td>162.0</td>\n",
              "      <td>[{\"iso_639_1\": \"en\", \"name\": \"English\"}, {\"iso...</td>\n",
              "      <td>Released</td>\n",
              "      <td>Enter the World of Pandora.</td>\n",
              "      <td>Avatar</td>\n",
              "      <td>7.2</td>\n",
              "      <td>11800</td>\n",
              "      <td>Avatar</td>\n",
              "      <td>[{\"cast_id\": 242, \"character\": \"Jake Sully\", \"...</td>\n",
              "      <td>[{\"credit_id\": \"52fe48009251416c750aca23\", \"de...</td>\n",
              "    </tr>\n",
              "    <tr>\n",
              "      <th>1</th>\n",
              "      <td>300000000</td>\n",
              "      <td>[{\"id\": 12, \"name\": \"Adventure\"}, {\"id\": 14, \"...</td>\n",
              "      <td>http://disney.go.com/disneypictures/pirates/</td>\n",
              "      <td>285</td>\n",
              "      <td>[{\"id\": 270, \"name\": \"ocean\"}, {\"id\": 726, \"na...</td>\n",
              "      <td>en</td>\n",
              "      <td>Pirates of the Caribbean: At World's End</td>\n",
              "      <td>Captain Barbossa, long believed to be dead, ha...</td>\n",
              "      <td>139.082615</td>\n",
              "      <td>[{\"name\": \"Walt Disney Pictures\", \"id\": 2}, {\"...</td>\n",
              "      <td>[{\"iso_3166_1\": \"US\", \"name\": \"United States o...</td>\n",
              "      <td>2007-05-19</td>\n",
              "      <td>961000000</td>\n",
              "      <td>169.0</td>\n",
              "      <td>[{\"iso_639_1\": \"en\", \"name\": \"English\"}]</td>\n",
              "      <td>Released</td>\n",
              "      <td>At the end of the world, the adventure begins.</td>\n",
              "      <td>Pirates of the Caribbean: At World's End</td>\n",
              "      <td>6.9</td>\n",
              "      <td>4500</td>\n",
              "      <td>Pirates of the Caribbean: At World's End</td>\n",
              "      <td>[{\"cast_id\": 4, \"character\": \"Captain Jack Spa...</td>\n",
              "      <td>[{\"credit_id\": \"52fe4232c3a36847f800b579\", \"de...</td>\n",
              "    </tr>\n",
              "    <tr>\n",
              "      <th>2</th>\n",
              "      <td>245000000</td>\n",
              "      <td>[{\"id\": 28, \"name\": \"Action\"}, {\"id\": 12, \"nam...</td>\n",
              "      <td>http://www.sonypictures.com/movies/spectre/</td>\n",
              "      <td>206647</td>\n",
              "      <td>[{\"id\": 470, \"name\": \"spy\"}, {\"id\": 818, \"name...</td>\n",
              "      <td>en</td>\n",
              "      <td>Spectre</td>\n",
              "      <td>A cryptic message from Bond’s past sends him o...</td>\n",
              "      <td>107.376788</td>\n",
              "      <td>[{\"name\": \"Columbia Pictures\", \"id\": 5}, {\"nam...</td>\n",
              "      <td>[{\"iso_3166_1\": \"GB\", \"name\": \"United Kingdom\"...</td>\n",
              "      <td>2015-10-26</td>\n",
              "      <td>880674609</td>\n",
              "      <td>148.0</td>\n",
              "      <td>[{\"iso_639_1\": \"fr\", \"name\": \"Fran\\u00e7ais\"},...</td>\n",
              "      <td>Released</td>\n",
              "      <td>A Plan No One Escapes</td>\n",
              "      <td>Spectre</td>\n",
              "      <td>6.3</td>\n",
              "      <td>4466</td>\n",
              "      <td>Spectre</td>\n",
              "      <td>[{\"cast_id\": 1, \"character\": \"James Bond\", \"cr...</td>\n",
              "      <td>[{\"credit_id\": \"54805967c3a36829b5002c41\", \"de...</td>\n",
              "    </tr>\n",
              "    <tr>\n",
              "      <th>3</th>\n",
              "      <td>250000000</td>\n",
              "      <td>[{\"id\": 28, \"name\": \"Action\"}, {\"id\": 80, \"nam...</td>\n",
              "      <td>http://www.thedarkknightrises.com/</td>\n",
              "      <td>49026</td>\n",
              "      <td>[{\"id\": 849, \"name\": \"dc comics\"}, {\"id\": 853,...</td>\n",
              "      <td>en</td>\n",
              "      <td>The Dark Knight Rises</td>\n",
              "      <td>Following the death of District Attorney Harve...</td>\n",
              "      <td>112.312950</td>\n",
              "      <td>[{\"name\": \"Legendary Pictures\", \"id\": 923}, {\"...</td>\n",
              "      <td>[{\"iso_3166_1\": \"US\", \"name\": \"United States o...</td>\n",
              "      <td>2012-07-16</td>\n",
              "      <td>1084939099</td>\n",
              "      <td>165.0</td>\n",
              "      <td>[{\"iso_639_1\": \"en\", \"name\": \"English\"}]</td>\n",
              "      <td>Released</td>\n",
              "      <td>The Legend Ends</td>\n",
              "      <td>The Dark Knight Rises</td>\n",
              "      <td>7.6</td>\n",
              "      <td>9106</td>\n",
              "      <td>The Dark Knight Rises</td>\n",
              "      <td>[{\"cast_id\": 2, \"character\": \"Bruce Wayne / Ba...</td>\n",
              "      <td>[{\"credit_id\": \"52fe4781c3a36847f81398c3\", \"de...</td>\n",
              "    </tr>\n",
              "    <tr>\n",
              "      <th>4</th>\n",
              "      <td>260000000</td>\n",
              "      <td>[{\"id\": 28, \"name\": \"Action\"}, {\"id\": 12, \"nam...</td>\n",
              "      <td>http://movies.disney.com/john-carter</td>\n",
              "      <td>49529</td>\n",
              "      <td>[{\"id\": 818, \"name\": \"based on novel\"}, {\"id\":...</td>\n",
              "      <td>en</td>\n",
              "      <td>John Carter</td>\n",
              "      <td>John Carter is a war-weary, former military ca...</td>\n",
              "      <td>43.926995</td>\n",
              "      <td>[{\"name\": \"Walt Disney Pictures\", \"id\": 2}]</td>\n",
              "      <td>[{\"iso_3166_1\": \"US\", \"name\": \"United States o...</td>\n",
              "      <td>2012-03-07</td>\n",
              "      <td>284139100</td>\n",
              "      <td>132.0</td>\n",
              "      <td>[{\"iso_639_1\": \"en\", \"name\": \"English\"}]</td>\n",
              "      <td>Released</td>\n",
              "      <td>Lost in our world, found in another.</td>\n",
              "      <td>John Carter</td>\n",
              "      <td>6.1</td>\n",
              "      <td>2124</td>\n",
              "      <td>John Carter</td>\n",
              "      <td>[{\"cast_id\": 5, \"character\": \"John Carter\", \"c...</td>\n",
              "      <td>[{\"credit_id\": \"52fe479ac3a36847f813eaa3\", \"de...</td>\n",
              "    </tr>\n",
              "  </tbody>\n",
              "</table>\n",
              "</div>"
            ],
            "text/plain": [
              "      budget  ...                                               crew\n",
              "0  237000000  ...  [{\"credit_id\": \"52fe48009251416c750aca23\", \"de...\n",
              "1  300000000  ...  [{\"credit_id\": \"52fe4232c3a36847f800b579\", \"de...\n",
              "2  245000000  ...  [{\"credit_id\": \"54805967c3a36829b5002c41\", \"de...\n",
              "3  250000000  ...  [{\"credit_id\": \"52fe4781c3a36847f81398c3\", \"de...\n",
              "4  260000000  ...  [{\"credit_id\": \"52fe479ac3a36847f813eaa3\", \"de...\n",
              "\n",
              "[5 rows x 23 columns]"
            ]
          },
          "metadata": {
            "tags": []
          },
          "execution_count": 5
        }
      ]
    },
    {
      "cell_type": "markdown",
      "metadata": {
        "id": "6wv2504H2szv",
        "colab_type": "text"
      },
      "source": [
        "## Demographic Filtering"
      ]
    },
    {
      "cell_type": "markdown",
      "metadata": {
        "id": "9HWg7wpZ20_k",
        "colab_type": "text"
      },
      "source": [
        "This is a very basic type of recommendation where we assume that the 'best' items will be widely liked by average users. This is not a custom recommendation but a general one. So, we just show the best movies as recommendations to all the users in the same demographic."
      ]
    },
    {
      "cell_type": "markdown",
      "metadata": {
        "id": "6weGskM9E3pn",
        "colab_type": "text"
      },
      "source": [
        "#### Weighted Rating - A IMDB rating that takes into consideration the number of votes for the final rating.\n",
        "\n",
        "WR = v/(v+m) * R) + (m/(m+v) * C\n",
        "\n",
        "- v is the number of votes for the movie;\n",
        "- m is the minimum votes required to be listed in the chart;\n",
        "- R is the average rating of the movie; And\n",
        "- C is the mean vote across the whole report\n"
      ]
    },
    {
      "cell_type": "code",
      "metadata": {
        "id": "dQbrXsCoHIMv",
        "colab_type": "code",
        "colab": {}
      },
      "source": [
        "C = np.mean(df.vote_average.values)\n",
        "np.mean(df.vote_count.values)\n",
        "\n",
        "# we find that the movies have an average of around 700 votes, let us keep the cutoff as 1000 votes\n",
        "m = 1000"
      ],
      "execution_count": 6,
      "outputs": []
    },
    {
      "cell_type": "code",
      "metadata": {
        "id": "17XQampKHDB8",
        "colab_type": "code",
        "colab": {}
      },
      "source": [
        "def calc_w_rating(x, C=C, m=m):\n",
        "    v = x.vote_count\n",
        "    R = x.vote_average\n",
        "    return (v/(v+m) * R) + (m/(m+v) * C)"
      ],
      "execution_count": 7,
      "outputs": []
    },
    {
      "cell_type": "code",
      "metadata": {
        "id": "QDaaSZKAIbhE",
        "colab_type": "code",
        "colab": {}
      },
      "source": [
        "# qualifying movies with minimum 1000 votes\n",
        "q_movies = df.copy().loc[df['vote_count']>999]\n",
        "q_movies['w_rating'] = q_movies.apply(calc_w_rating, axis=1)"
      ],
      "execution_count": 8,
      "outputs": []
    },
    {
      "cell_type": "code",
      "metadata": {
        "id": "x8h1GSdhIcKQ",
        "colab_type": "code",
        "colab": {
          "base_uri": "https://localhost:8080/",
          "height": 365
        },
        "outputId": "cc17f01e-6676-4544-c01b-f1fdd1a3ffea"
      },
      "source": [
        "# sorted with top-rated movies at the top\n",
        "q_movies = q_movies.sort_values('w_rating',ascending=False)\n",
        "print(\"TOP 10 Movies by IMDB Rating\")\n",
        "q_movies[['original_title','w_rating','original_language','vote_average','vote_count']].head(10)"
      ],
      "execution_count": 9,
      "outputs": [
        {
          "output_type": "stream",
          "text": [
            "TOP 10 Movies by IMDB Rating\n"
          ],
          "name": "stdout"
        },
        {
          "output_type": "execute_result",
          "data": {
            "text/html": [
              "<div>\n",
              "<style scoped>\n",
              "    .dataframe tbody tr th:only-of-type {\n",
              "        vertical-align: middle;\n",
              "    }\n",
              "\n",
              "    .dataframe tbody tr th {\n",
              "        vertical-align: top;\n",
              "    }\n",
              "\n",
              "    .dataframe thead th {\n",
              "        text-align: right;\n",
              "    }\n",
              "</style>\n",
              "<table border=\"1\" class=\"dataframe\">\n",
              "  <thead>\n",
              "    <tr style=\"text-align: right;\">\n",
              "      <th></th>\n",
              "      <th>original_title</th>\n",
              "      <th>w_rating</th>\n",
              "      <th>original_language</th>\n",
              "      <th>vote_average</th>\n",
              "      <th>vote_count</th>\n",
              "    </tr>\n",
              "  </thead>\n",
              "  <tbody>\n",
              "    <tr>\n",
              "      <th>1881</th>\n",
              "      <td>The Shawshank Redemption</td>\n",
              "      <td>8.238422</td>\n",
              "      <td>en</td>\n",
              "      <td>8.5</td>\n",
              "      <td>8205</td>\n",
              "    </tr>\n",
              "    <tr>\n",
              "      <th>662</th>\n",
              "      <td>Fight Club</td>\n",
              "      <td>8.087974</td>\n",
              "      <td>en</td>\n",
              "      <td>8.3</td>\n",
              "      <td>9413</td>\n",
              "    </tr>\n",
              "    <tr>\n",
              "      <th>3232</th>\n",
              "      <td>Pulp Fiction</td>\n",
              "      <td>8.065822</td>\n",
              "      <td>en</td>\n",
              "      <td>8.3</td>\n",
              "      <td>8428</td>\n",
              "    </tr>\n",
              "    <tr>\n",
              "      <th>3337</th>\n",
              "      <td>The Godfather</td>\n",
              "      <td>8.065192</td>\n",
              "      <td>en</td>\n",
              "      <td>8.4</td>\n",
              "      <td>5893</td>\n",
              "    </tr>\n",
              "    <tr>\n",
              "      <th>65</th>\n",
              "      <td>The Dark Knight</td>\n",
              "      <td>8.037884</td>\n",
              "      <td>en</td>\n",
              "      <td>8.2</td>\n",
              "      <td>12002</td>\n",
              "    </tr>\n",
              "    <tr>\n",
              "      <th>96</th>\n",
              "      <td>Inception</td>\n",
              "      <td>7.963894</td>\n",
              "      <td>en</td>\n",
              "      <td>8.1</td>\n",
              "      <td>13752</td>\n",
              "    </tr>\n",
              "    <tr>\n",
              "      <th>809</th>\n",
              "      <td>Forrest Gump</td>\n",
              "      <td>7.963882</td>\n",
              "      <td>en</td>\n",
              "      <td>8.2</td>\n",
              "      <td>7927</td>\n",
              "    </tr>\n",
              "    <tr>\n",
              "      <th>95</th>\n",
              "      <td>Interstellar</td>\n",
              "      <td>7.930806</td>\n",
              "      <td>en</td>\n",
              "      <td>8.1</td>\n",
              "      <td>10867</td>\n",
              "    </tr>\n",
              "    <tr>\n",
              "      <th>1990</th>\n",
              "      <td>The Empire Strikes Back</td>\n",
              "      <td>7.893585</td>\n",
              "      <td>en</td>\n",
              "      <td>8.2</td>\n",
              "      <td>5879</td>\n",
              "    </tr>\n",
              "    <tr>\n",
              "      <th>1818</th>\n",
              "      <td>Schindler's List</td>\n",
              "      <td>7.885696</td>\n",
              "      <td>en</td>\n",
              "      <td>8.3</td>\n",
              "      <td>4329</td>\n",
              "    </tr>\n",
              "  </tbody>\n",
              "</table>\n",
              "</div>"
            ],
            "text/plain": [
              "                original_title  w_rating  ... vote_average  vote_count\n",
              "1881  The Shawshank Redemption  8.238422  ...          8.5        8205\n",
              "662                 Fight Club  8.087974  ...          8.3        9413\n",
              "3232              Pulp Fiction  8.065822  ...          8.3        8428\n",
              "3337             The Godfather  8.065192  ...          8.4        5893\n",
              "65             The Dark Knight  8.037884  ...          8.2       12002\n",
              "96                   Inception  7.963894  ...          8.1       13752\n",
              "809               Forrest Gump  7.963882  ...          8.2        7927\n",
              "95                Interstellar  7.930806  ...          8.1       10867\n",
              "1990   The Empire Strikes Back  7.893585  ...          8.2        5879\n",
              "1818          Schindler's List  7.885696  ...          8.3        4329\n",
              "\n",
              "[10 rows x 5 columns]"
            ]
          },
          "metadata": {
            "tags": []
          },
          "execution_count": 9
        }
      ]
    },
    {
      "cell_type": "code",
      "metadata": {
        "id": "GpK1Kvw3JEmw",
        "colab_type": "code",
        "colab": {
          "base_uri": "https://localhost:8080/",
          "height": 413
        },
        "outputId": "65d74f1b-ab92-402b-b97f-f83a91c0bf16"
      },
      "source": [
        "# to get the most trending movies, use the popularity score and arrange top popular movies\n",
        "\n",
        "pop = df[['m_title','popularity']].sort_values('popularity', ascending=False).head(10)\n",
        "plt.figure(figsize=(10,6),facecolor='lightblue')\n",
        "sns.set(font_scale=1.1,style='darkgrid')\n",
        "sns.barplot(y='m_title', x='popularity', data=pop, color='lightgreen')\n",
        "plt.ylabel('Movies')\n",
        "plt.xlabel('Popularity')\n",
        "plt.title('Trending Movies')\n",
        "plt.show()"
      ],
      "execution_count": 10,
      "outputs": [
        {
          "output_type": "display_data",
          "data": {
            "image/png": "[encoded data removed]",
            "text/plain": [
              "<Figure size 720x432 with 1 Axes>"
            ]
          },
          "metadata": {
            "tags": []
          }
        }
      ]
    },
    {
      "cell_type": "markdown",
      "metadata": {
        "id": "L7L_2euUVRjq",
        "colab_type": "text"
      },
      "source": [
        "## Content-based Filtering"
      ]
    },
    {
      "cell_type": "markdown",
      "metadata": {
        "id": "FcdFClBiVit-",
        "colab_type": "text"
      },
      "source": [
        "In this type of filtering, we give pairwise similarity scores to movies and recommend movies that have a very high similarity to the movie that the user already watched. In our model, we will use a plot-based similarity recommender. We use the plot text data to base our movie similarities on."
      ]
    },
    {
      "cell_type": "code",
      "metadata": {
        "id": "cPTcJ47PVU7C",
        "colab_type": "code",
        "colab": {
          "base_uri": "https://localhost:8080/",
          "height": 34
        },
        "outputId": "98612561-1f65-49f2-be79-aa9ec7ad1abe"
      },
      "source": [
        "df['overview'] = df['overview'].fillna('')\n",
        "\n",
        "tfidf = TfidfVectorizer(stop_words='english')\n",
        "tfidf_matrix = tfidf.fit_transform(df['overview'])\n",
        "\n",
        "tfidf_matrix.shape"
      ],
      "execution_count": 11,
      "outputs": [
        {
          "output_type": "execute_result",
          "data": {
            "text/plain": [
              "(4803, 20978)"
            ]
          },
          "metadata": {
            "tags": []
          },
          "execution_count": 11
        }
      ]
    },
    {
      "cell_type": "code",
      "metadata": {
        "id": "a-YRod5c3xv0",
        "colab_type": "code",
        "colab": {}
      },
      "source": [
        "# construct a reverse map of movie title and movie index\n",
        "indices = pd.Series(df.index, index=df['m_title']).drop_duplicates()"
      ],
      "execution_count": 12,
      "outputs": []
    },
    {
      "cell_type": "code",
      "metadata": {
        "id": "eBQoCgOo4GuK",
        "colab_type": "code",
        "colab": {}
      },
      "source": [
        "# we use cosine similarity to calculate the similarity\n",
        "\n",
        "# Compute the cosine similarity matrix\n",
        "cosine_sim = cosine_similarity(tfidf_matrix, tfidf_matrix)"
      ],
      "execution_count": 13,
      "outputs": []
    },
    {
      "cell_type": "code",
      "metadata": {
        "id": "-U4JmM-Q47A-",
        "colab_type": "code",
        "colab": {}
      },
      "source": [
        "def get_recommendations(title, cosine_sim=cosine_sim):\n",
        "    i = indices[title]\n",
        "\n",
        "    # get similarity for the movie with respect to every other movie in the list\n",
        "    similarity = list(enumerate(cosine_sim[i]))\n",
        "\n",
        "    similarity = sorted(similarity, key=lambda x: x[1], reverse=True)\n",
        "    # get top 10 movies\n",
        "    similarity = similarity[1:11]\n",
        "    idx = [x[0] for x in similarity]\n",
        "    return df['m_title'].iloc[idx]"
      ],
      "execution_count": 14,
      "outputs": []
    },
    {
      "cell_type": "code",
      "metadata": {
        "id": "kbpq90iy571e",
        "colab_type": "code",
        "colab": {
          "base_uri": "https://localhost:8080/",
          "height": 212
        },
        "outputId": "ee05d84b-b3f1-4e95-eac9-8c221d85d274"
      },
      "source": [
        "get_recommendations('The Godfather')"
      ],
      "execution_count": 15,
      "outputs": [
        {
          "output_type": "execute_result",
          "data": {
            "text/plain": [
              "2731     The Godfather: Part II\n",
              "1873                 Blood Ties\n",
              "867     The Godfather: Part III\n",
              "3727                 Easy Money\n",
              "3623                       Made\n",
              "3125                     Eulogy\n",
              "3896                   Sinister\n",
              "4506            The Maid's Room\n",
              "3783                        Joe\n",
              "2244      The Cold Light of Day\n",
              "Name: m_title, dtype: object"
            ]
          },
          "metadata": {
            "tags": []
          },
          "execution_count": 15
        }
      ]
    },
    {
      "cell_type": "code",
      "metadata": {
        "id": "Undpaf_kCKts",
        "colab_type": "code",
        "colab": {
          "base_uri": "https://localhost:8080/",
          "height": 212
        },
        "outputId": "3dd8e1fe-1abf-436f-92df-42e7d139f15b"
      },
      "source": [
        "get_recommendations('Deadpool')"
      ],
      "execution_count": 16,
      "outputs": [
        {
          "output_type": "execute_result",
          "data": {
            "text/plain": [
              "873                                   Shaft\n",
              "2375                       Midnight Special\n",
              "3733                            Night Watch\n",
              "473                           Mars Attacks!\n",
              "30                             Spider-Man 2\n",
              "4664                                Bronson\n",
              "1110                  Underworld: Evolution\n",
              "50      Prince of Persia: The Sands of Time\n",
              "5                              Spider-Man 3\n",
              "3742                                 Maggie\n",
              "Name: m_title, dtype: object"
            ]
          },
          "metadata": {
            "tags": []
          },
          "execution_count": 16
        }
      ]
    },
    {
      "cell_type": "markdown",
      "metadata": {
        "id": "Rhcy7cIuE3_m",
        "colab_type": "text"
      },
      "source": [
        "We used movie descriptions for making recommendations, but they alone might not be able to fully provide us the best similarity score. Let us make use of genres, keywords and other features to make more revelant predictions. "
      ]
    },
    {
      "cell_type": "code",
      "metadata": {
        "id": "w3xFrFZ2Evey",
        "colab_type": "code",
        "colab": {}
      },
      "source": [
        "# Parse the stringified features into their corresponding python objects\n",
        "from ast import literal_eval\n",
        "\n",
        "features = ['cast', 'crew', 'keywords', 'genres','production_companies']\n",
        "for feature in features:\n",
        "    df[feature] = df[feature].apply(literal_eval)"
      ],
      "execution_count": 17,
      "outputs": []
    },
    {
      "cell_type": "code",
      "metadata": {
        "id": "AuVU7jYMH7c3",
        "colab_type": "code",
        "colab": {}
      },
      "source": [
        "# get name of director from crew list\n",
        "def get_director(x):\n",
        "    for i in x:\n",
        "        if i['job']=='Director':\n",
        "            return i['name']\n",
        "    return np.NaN"
      ],
      "execution_count": 18,
      "outputs": []
    },
    {
      "cell_type": "code",
      "metadata": {
        "id": "29xZuRlaMpBl",
        "colab_type": "code",
        "colab": {}
      },
      "source": [
        "# top 3 features for - cast, genres, keywords, production companies\n",
        "def get_top_three(x):\n",
        "    if isinstance(x, list):\n",
        "        top = [i['name'] for i in x]\n",
        "        # if there are more than 3 return top 3, else return all\n",
        "        if len(top)>3:\n",
        "            return top[:3]\n",
        "        return top\n",
        "    return []"
      ],
      "execution_count": 19,
      "outputs": []
    },
    {
      "cell_type": "code",
      "metadata": {
        "id": "37sYGNexH9pa",
        "colab_type": "code",
        "colab": {}
      },
      "source": [
        "# add director column\n",
        "df['director'] = df['crew'].apply(get_director)\n",
        "\n",
        "features = ['cast','genres','keywords','production_companies']\n",
        "# get top 3 cast, generes, keywords\n",
        "for feature in features:\n",
        "    df[feature] = df[feature].apply(get_top_three)"
      ],
      "execution_count": 20,
      "outputs": []
    },
    {
      "cell_type": "code",
      "metadata": {
        "id": "tRKc5LXxIAlz",
        "colab_type": "code",
        "colab": {
          "base_uri": "https://localhost:8080/",
          "height": 514
        },
        "outputId": "a2a1a1e3-8275-4e48-b4fa-17ff2b79526a"
      },
      "source": [
        "df[['title','director','cast','keywords','genres','production_companies']].head(10)"
      ],
      "execution_count": 21,
      "outputs": [
        {
          "output_type": "execute_result",
          "data": {
            "text/html": [
              "<div>\n",
              "<style scoped>\n",
              "    .dataframe tbody tr th:only-of-type {\n",
              "        vertical-align: middle;\n",
              "    }\n",
              "\n",
              "    .dataframe tbody tr th {\n",
              "        vertical-align: top;\n",
              "    }\n",
              "\n",
              "    .dataframe thead th {\n",
              "        text-align: right;\n",
              "    }\n",
              "</style>\n",
              "<table border=\"1\" class=\"dataframe\">\n",
              "  <thead>\n",
              "    <tr style=\"text-align: right;\">\n",
              "      <th></th>\n",
              "      <th>title</th>\n",
              "      <th>director</th>\n",
              "      <th>cast</th>\n",
              "      <th>keywords</th>\n",
              "      <th>genres</th>\n",
              "      <th>production_companies</th>\n",
              "    </tr>\n",
              "  </thead>\n",
              "  <tbody>\n",
              "    <tr>\n",
              "      <th>0</th>\n",
              "      <td>Avatar</td>\n",
              "      <td>James Cameron</td>\n",
              "      <td>[Sam Worthington, Zoe Saldana, Sigourney Weaver]</td>\n",
              "      <td>[culture clash, future, space war]</td>\n",
              "      <td>[Action, Adventure, Fantasy]</td>\n",
              "      <td>[Ingenious Film Partners, Twentieth Century Fo...</td>\n",
              "    </tr>\n",
              "    <tr>\n",
              "      <th>1</th>\n",
              "      <td>Pirates of the Caribbean: At World's End</td>\n",
              "      <td>Gore Verbinski</td>\n",
              "      <td>[Johnny Depp, Orlando Bloom, Keira Knightley]</td>\n",
              "      <td>[ocean, drug abuse, exotic island]</td>\n",
              "      <td>[Adventure, Fantasy, Action]</td>\n",
              "      <td>[Walt Disney Pictures, Jerry Bruckheimer Films...</td>\n",
              "    </tr>\n",
              "    <tr>\n",
              "      <th>2</th>\n",
              "      <td>Spectre</td>\n",
              "      <td>Sam Mendes</td>\n",
              "      <td>[Daniel Craig, Christoph Waltz, Léa Seydoux]</td>\n",
              "      <td>[spy, based on novel, secret agent]</td>\n",
              "      <td>[Action, Adventure, Crime]</td>\n",
              "      <td>[Columbia Pictures, Danjaq, B24]</td>\n",
              "    </tr>\n",
              "    <tr>\n",
              "      <th>3</th>\n",
              "      <td>The Dark Knight Rises</td>\n",
              "      <td>Christopher Nolan</td>\n",
              "      <td>[Christian Bale, Michael Caine, Gary Oldman]</td>\n",
              "      <td>[dc comics, crime fighter, terrorist]</td>\n",
              "      <td>[Action, Crime, Drama]</td>\n",
              "      <td>[Legendary Pictures, Warner Bros., DC Entertai...</td>\n",
              "    </tr>\n",
              "    <tr>\n",
              "      <th>4</th>\n",
              "      <td>John Carter</td>\n",
              "      <td>Andrew Stanton</td>\n",
              "      <td>[Taylor Kitsch, Lynn Collins, Samantha Morton]</td>\n",
              "      <td>[based on novel, mars, medallion]</td>\n",
              "      <td>[Action, Adventure, Science Fiction]</td>\n",
              "      <td>[Walt Disney Pictures]</td>\n",
              "    </tr>\n",
              "    <tr>\n",
              "      <th>5</th>\n",
              "      <td>Spider-Man 3</td>\n",
              "      <td>Sam Raimi</td>\n",
              "      <td>[Tobey Maguire, Kirsten Dunst, James Franco]</td>\n",
              "      <td>[dual identity, amnesia, sandstorm]</td>\n",
              "      <td>[Fantasy, Action, Adventure]</td>\n",
              "      <td>[Columbia Pictures, Laura Ziskin Productions, ...</td>\n",
              "    </tr>\n",
              "    <tr>\n",
              "      <th>6</th>\n",
              "      <td>Tangled</td>\n",
              "      <td>Byron Howard</td>\n",
              "      <td>[Zachary Levi, Mandy Moore, Donna Murphy]</td>\n",
              "      <td>[hostage, magic, horse]</td>\n",
              "      <td>[Animation, Family]</td>\n",
              "      <td>[Walt Disney Pictures, Walt Disney Animation S...</td>\n",
              "    </tr>\n",
              "    <tr>\n",
              "      <th>7</th>\n",
              "      <td>Avengers: Age of Ultron</td>\n",
              "      <td>Joss Whedon</td>\n",
              "      <td>[Robert Downey Jr., Chris Hemsworth, Mark Ruff...</td>\n",
              "      <td>[marvel comic, sequel, superhero]</td>\n",
              "      <td>[Action, Adventure, Science Fiction]</td>\n",
              "      <td>[Marvel Studios, Prime Focus, Revolution Sun S...</td>\n",
              "    </tr>\n",
              "    <tr>\n",
              "      <th>8</th>\n",
              "      <td>Harry Potter and the Half-Blood Prince</td>\n",
              "      <td>David Yates</td>\n",
              "      <td>[Daniel Radcliffe, Rupert Grint, Emma Watson]</td>\n",
              "      <td>[witch, magic, broom]</td>\n",
              "      <td>[Adventure, Fantasy, Family]</td>\n",
              "      <td>[Warner Bros., Heyday Films]</td>\n",
              "    </tr>\n",
              "    <tr>\n",
              "      <th>9</th>\n",
              "      <td>Batman v Superman: Dawn of Justice</td>\n",
              "      <td>Zack Snyder</td>\n",
              "      <td>[Ben Affleck, Henry Cavill, Gal Gadot]</td>\n",
              "      <td>[dc comics, vigilante, superhero]</td>\n",
              "      <td>[Action, Adventure, Fantasy]</td>\n",
              "      <td>[DC Comics, Atlas Entertainment, Warner Bros.]</td>\n",
              "    </tr>\n",
              "  </tbody>\n",
              "</table>\n",
              "</div>"
            ],
            "text/plain": [
              "                                      title  ...                               production_companies\n",
              "0                                    Avatar  ...  [Ingenious Film Partners, Twentieth Century Fo...\n",
              "1  Pirates of the Caribbean: At World's End  ...  [Walt Disney Pictures, Jerry Bruckheimer Films...\n",
              "2                                   Spectre  ...                   [Columbia Pictures, Danjaq, B24]\n",
              "3                     The Dark Knight Rises  ...  [Legendary Pictures, Warner Bros., DC Entertai...\n",
              "4                               John Carter  ...                             [Walt Disney Pictures]\n",
              "5                              Spider-Man 3  ...  [Columbia Pictures, Laura Ziskin Productions, ...\n",
              "6                                   Tangled  ...  [Walt Disney Pictures, Walt Disney Animation S...\n",
              "7                   Avengers: Age of Ultron  ...  [Marvel Studios, Prime Focus, Revolution Sun S...\n",
              "8    Harry Potter and the Half-Blood Prince  ...                       [Warner Bros., Heyday Films]\n",
              "9        Batman v Superman: Dawn of Justice  ...     [DC Comics, Atlas Entertainment, Warner Bros.]\n",
              "\n",
              "[10 rows x 6 columns]"
            ]
          },
          "metadata": {
            "tags": []
          },
          "execution_count": 21
        }
      ]
    },
    {
      "cell_type": "code",
      "metadata": {
        "id": "Jb48ZEBdNFGt",
        "colab_type": "code",
        "colab": {}
      },
      "source": [
        "# clean data by removing spaces and converting to lower case for the vectorizer\n",
        "\n",
        "def clean_data(x):\n",
        "    if isinstance(x, list):\n",
        "        return [str.lower(i.replace(' ','')) for i in x]\n",
        "    elif isinstance(x, str):\n",
        "        return str.lower(x.replace(' ',''))\n",
        "    else:\n",
        "        return ''"
      ],
      "execution_count": 22,
      "outputs": []
    },
    {
      "cell_type": "code",
      "metadata": {
        "id": "f3w0BNCeQiTQ",
        "colab_type": "code",
        "colab": {}
      },
      "source": [
        "# clean the new features\n",
        "features = ['cast','genres','keywords','director','production_companies']\n",
        "\n",
        "for feature in features:\n",
        "    df[feature] = df[feature].apply(clean_data)"
      ],
      "execution_count": 23,
      "outputs": []
    },
    {
      "cell_type": "code",
      "metadata": {
        "id": "-ko7sBhfQ1cb",
        "colab_type": "code",
        "colab": {
          "base_uri": "https://localhost:8080/",
          "height": 327
        },
        "outputId": "ebec6eff-fee1-42ee-cfc9-b1a694e8bc67"
      },
      "source": [
        "df[['title','director','cast','keywords','genres','production_companies']].head(6)"
      ],
      "execution_count": 24,
      "outputs": [
        {
          "output_type": "execute_result",
          "data": {
            "text/html": [
              "<div>\n",
              "<style scoped>\n",
              "    .dataframe tbody tr th:only-of-type {\n",
              "        vertical-align: middle;\n",
              "    }\n",
              "\n",
              "    .dataframe tbody tr th {\n",
              "        vertical-align: top;\n",
              "    }\n",
              "\n",
              "    .dataframe thead th {\n",
              "        text-align: right;\n",
              "    }\n",
              "</style>\n",
              "<table border=\"1\" class=\"dataframe\">\n",
              "  <thead>\n",
              "    <tr style=\"text-align: right;\">\n",
              "      <th></th>\n",
              "      <th>title</th>\n",
              "      <th>director</th>\n",
              "      <th>cast</th>\n",
              "      <th>keywords</th>\n",
              "      <th>genres</th>\n",
              "      <th>production_companies</th>\n",
              "    </tr>\n",
              "  </thead>\n",
              "  <tbody>\n",
              "    <tr>\n",
              "      <th>0</th>\n",
              "      <td>Avatar</td>\n",
              "      <td>jamescameron</td>\n",
              "      <td>[samworthington, zoesaldana, sigourneyweaver]</td>\n",
              "      <td>[cultureclash, future, spacewar]</td>\n",
              "      <td>[action, adventure, fantasy]</td>\n",
              "      <td>[ingeniousfilmpartners, twentiethcenturyfoxfil...</td>\n",
              "    </tr>\n",
              "    <tr>\n",
              "      <th>1</th>\n",
              "      <td>Pirates of the Caribbean: At World's End</td>\n",
              "      <td>goreverbinski</td>\n",
              "      <td>[johnnydepp, orlandobloom, keiraknightley]</td>\n",
              "      <td>[ocean, drugabuse, exoticisland]</td>\n",
              "      <td>[adventure, fantasy, action]</td>\n",
              "      <td>[waltdisneypictures, jerrybruckheimerfilms, se...</td>\n",
              "    </tr>\n",
              "    <tr>\n",
              "      <th>2</th>\n",
              "      <td>Spectre</td>\n",
              "      <td>sammendes</td>\n",
              "      <td>[danielcraig, christophwaltz, léaseydoux]</td>\n",
              "      <td>[spy, basedonnovel, secretagent]</td>\n",
              "      <td>[action, adventure, crime]</td>\n",
              "      <td>[columbiapictures, danjaq, b24]</td>\n",
              "    </tr>\n",
              "    <tr>\n",
              "      <th>3</th>\n",
              "      <td>The Dark Knight Rises</td>\n",
              "      <td>christophernolan</td>\n",
              "      <td>[christianbale, michaelcaine, garyoldman]</td>\n",
              "      <td>[dccomics, crimefighter, terrorist]</td>\n",
              "      <td>[action, crime, drama]</td>\n",
              "      <td>[legendarypictures, warnerbros., dcentertainment]</td>\n",
              "    </tr>\n",
              "    <tr>\n",
              "      <th>4</th>\n",
              "      <td>John Carter</td>\n",
              "      <td>andrewstanton</td>\n",
              "      <td>[taylorkitsch, lynncollins, samanthamorton]</td>\n",
              "      <td>[basedonnovel, mars, medallion]</td>\n",
              "      <td>[action, adventure, sciencefiction]</td>\n",
              "      <td>[waltdisneypictures]</td>\n",
              "    </tr>\n",
              "    <tr>\n",
              "      <th>5</th>\n",
              "      <td>Spider-Man 3</td>\n",
              "      <td>samraimi</td>\n",
              "      <td>[tobeymaguire, kirstendunst, jamesfranco]</td>\n",
              "      <td>[dualidentity, amnesia, sandstorm]</td>\n",
              "      <td>[fantasy, action, adventure]</td>\n",
              "      <td>[columbiapictures, lauraziskinproductions, mar...</td>\n",
              "    </tr>\n",
              "  </tbody>\n",
              "</table>\n",
              "</div>"
            ],
            "text/plain": [
              "                                      title  ...                               production_companies\n",
              "0                                    Avatar  ...  [ingeniousfilmpartners, twentiethcenturyfoxfil...\n",
              "1  Pirates of the Caribbean: At World's End  ...  [waltdisneypictures, jerrybruckheimerfilms, se...\n",
              "2                                   Spectre  ...                    [columbiapictures, danjaq, b24]\n",
              "3                     The Dark Knight Rises  ...  [legendarypictures, warnerbros., dcentertainment]\n",
              "4                               John Carter  ...                               [waltdisneypictures]\n",
              "5                              Spider-Man 3  ...  [columbiapictures, lauraziskinproductions, mar...\n",
              "\n",
              "[6 rows x 6 columns]"
            ]
          },
          "metadata": {
            "tags": []
          },
          "execution_count": 24
        }
      ]
    },
    {
      "cell_type": "code",
      "metadata": {
        "id": "tHcKlvf1Q8CD",
        "colab_type": "code",
        "colab": {}
      },
      "source": [
        "# create a soup of words for each movie which acts as its identity and \n",
        "# the similarity score with every other movie is calculated using this identity match with the other movies\n",
        "\n",
        "def word_soup(x):\n",
        "    return x['director'] + ' ' + ' '.join(x['genres']) + ' ' + ' '.join(x['keywords']) + ' ' + ' '.join(x['cast'])+ ' ' + ' '.join(x['production_companies'])\n",
        "\n",
        "# create word soup\n",
        "df['word_soup'] = df.apply(word_soup, axis=1)"
      ],
      "execution_count": 25,
      "outputs": []
    },
    {
      "cell_type": "code",
      "metadata": {
        "id": "OUkZmAuzTQHf",
        "colab_type": "code",
        "colab": {
          "base_uri": "https://localhost:8080/",
          "height": 35
        },
        "outputId": "fa9746c4-c4c0-4ec1-a827-4f02563fed5a"
      },
      "source": [
        "df.word_soup[5]"
      ],
      "execution_count": 26,
      "outputs": [
        {
          "output_type": "execute_result",
          "data": {
            "application/vnd.google.colaboratory.intrinsic+json": {
              "type": "string"
            },
            "text/plain": [
              "'samraimi fantasy action adventure dualidentity amnesia sandstorm tobeymaguire kirstendunst jamesfranco columbiapictures lauraziskinproductions marvelenterprises'"
            ]
          },
          "metadata": {
            "tags": []
          },
          "execution_count": 26
        }
      ]
    },
    {
      "cell_type": "code",
      "metadata": {
        "id": "xLcgvbHOTS7X",
        "colab_type": "code",
        "colab": {}
      },
      "source": [
        "count_vec = CountVectorizer(stop_words='english')\n",
        "count_matrix = count_vec.fit_transform(df['word_soup'])\n",
        "\n",
        "# this cosine similarity based on features produce much more closely matched similarities than the previous description match, which loosely matched movies\n",
        "cosine_sim2 = cosine_similarity(count_matrix, count_matrix)"
      ],
      "execution_count": 27,
      "outputs": []
    },
    {
      "cell_type": "code",
      "metadata": {
        "id": "AqiBEt1AXnm6",
        "colab_type": "code",
        "colab": {
          "base_uri": "https://localhost:8080/",
          "height": 212
        },
        "outputId": "acc6abe2-f504-47a5-f416-d31a87f89829"
      },
      "source": [
        "get_recommendations('The Godfather', cosine_sim2)"
      ],
      "execution_count": 28,
      "outputs": [
        {
          "output_type": "execute_result",
          "data": {
            "text/plain": [
              "867     The Godfather: Part III\n",
              "2731     The Godfather: Part II\n",
              "1209              The Rainmaker\n",
              "1170    The Talented Mr. Ripley\n",
              "4209           The Conversation\n",
              "2649          The Son of No One\n",
              "4124         This Thing of Ours\n",
              "1151            Double Jeopardy\n",
              "1525             Apocalypse Now\n",
              "1828           The Untouchables\n",
              "Name: m_title, dtype: object"
            ]
          },
          "metadata": {
            "tags": []
          },
          "execution_count": 28
        }
      ]
    },
    {
      "cell_type": "code",
      "metadata": {
        "id": "_ww7stpNY3QT",
        "colab_type": "code",
        "colab": {
          "base_uri": "https://localhost:8080/",
          "height": 212
        },
        "outputId": "002ad2f3-f12d-4933-d647-4fa684f33e65"
      },
      "source": [
        "get_recommendations('The Avengers', cosine_sim2)"
      ],
      "execution_count": 29,
      "outputs": [
        {
          "output_type": "execute_result",
          "data": {
            "text/plain": [
              "7                  Avengers: Age of Ultron\n",
              "26              Captain America: Civil War\n",
              "79                              Iron Man 2\n",
              "169     Captain America: The First Avenger\n",
              "85     Captain America: The Winter Soldier\n",
              "174                    The Incredible Hulk\n",
              "31                              Iron Man 3\n",
              "68                                Iron Man\n",
              "182                                Ant-Man\n",
              "94                 Guardians of the Galaxy\n",
              "Name: m_title, dtype: object"
            ]
          },
          "metadata": {
            "tags": []
          },
          "execution_count": 29
        }
      ]
    },
    {
      "cell_type": "markdown",
      "metadata": {
        "id": "qGyxst7WdoHX",
        "colab_type": "text"
      },
      "source": [
        "## Collaborative Filtering"
      ]
    },
    {
      "cell_type": "markdown",
      "metadata": {
        "id": "kpTss3RDKnN_",
        "colab_type": "text"
      },
      "source": [
        "In the above recommendation models, we used similarity of items alone to recommend to the user, but never really customized it to give subjective recommendations based on the preferences and biases of the user. All the above models give the same recommendation for every user. To take into consideration the liked and dislikes of the user in question for recommendation, we use Collaborative Filtering. There are two types :\n",
        "- User-based Collaborative Filtering\n",
        "- Item-based Collaborative Filtering"
      ]
    },
    {
      "cell_type": "code",
      "metadata": {
        "id": "GkSb4PZRVwOP",
        "colab_type": "code",
        "colab": {
          "base_uri": "https://localhost:8080/",
          "height": 197
        },
        "outputId": "f192163b-006e-4a42-e4f3-0ac2a61f6075"
      },
      "source": [
        "from surprise import Reader, SVD, Dataset\n",
        "reader = Reader()\n",
        "rating = pd.read_csv('ratings_small.csv')\n",
        "rating.head()"
      ],
      "execution_count": 41,
      "outputs": [
        {
          "output_type": "execute_result",
          "data": {
            "text/html": [
              "<div>\n",
              "<style scoped>\n",
              "    .dataframe tbody tr th:only-of-type {\n",
              "        vertical-align: middle;\n",
              "    }\n",
              "\n",
              "    .dataframe tbody tr th {\n",
              "        vertical-align: top;\n",
              "    }\n",
              "\n",
              "    .dataframe thead th {\n",
              "        text-align: right;\n",
              "    }\n",
              "</style>\n",
              "<table border=\"1\" class=\"dataframe\">\n",
              "  <thead>\n",
              "    <tr style=\"text-align: right;\">\n",
              "      <th></th>\n",
              "      <th>userId</th>\n",
              "      <th>movieId</th>\n",
              "      <th>rating</th>\n",
              "      <th>timestamp</th>\n",
              "    </tr>\n",
              "  </thead>\n",
              "  <tbody>\n",
              "    <tr>\n",
              "      <th>0</th>\n",
              "      <td>1</td>\n",
              "      <td>31</td>\n",
              "      <td>2.5</td>\n",
              "      <td>1260759144</td>\n",
              "    </tr>\n",
              "    <tr>\n",
              "      <th>1</th>\n",
              "      <td>1</td>\n",
              "      <td>1029</td>\n",
              "      <td>3.0</td>\n",
              "      <td>1260759179</td>\n",
              "    </tr>\n",
              "    <tr>\n",
              "      <th>2</th>\n",
              "      <td>1</td>\n",
              "      <td>1061</td>\n",
              "      <td>3.0</td>\n",
              "      <td>1260759182</td>\n",
              "    </tr>\n",
              "    <tr>\n",
              "      <th>3</th>\n",
              "      <td>1</td>\n",
              "      <td>1129</td>\n",
              "      <td>2.0</td>\n",
              "      <td>1260759185</td>\n",
              "    </tr>\n",
              "    <tr>\n",
              "      <th>4</th>\n",
              "      <td>1</td>\n",
              "      <td>1172</td>\n",
              "      <td>4.0</td>\n",
              "      <td>1260759205</td>\n",
              "    </tr>\n",
              "  </tbody>\n",
              "</table>\n",
              "</div>"
            ],
            "text/plain": [
              "   userId  movieId  rating   timestamp\n",
              "0       1       31     2.5  1260759144\n",
              "1       1     1029     3.0  1260759179\n",
              "2       1     1061     3.0  1260759182\n",
              "3       1     1129     2.0  1260759185\n",
              "4       1     1172     4.0  1260759205"
            ]
          },
          "metadata": {
            "tags": []
          },
          "execution_count": 41
        }
      ]
    },
    {
      "cell_type": "code",
      "metadata": {
        "id": "oxQgzU4hR-0j",
        "colab_type": "code",
        "colab": {
          "base_uri": "https://localhost:8080/",
          "height": 230
        },
        "outputId": "b6cbbf96-fccb-4b0b-e111-8568f6232eb1"
      },
      "source": [
        "from surprise.model_selection import cross_validate, KFold\n",
        "\n",
        "data = Dataset.load_from_df(rating[['userId', 'movieId', 'rating']], reader)\n",
        "kf = KFold(n_splits=5)\n",
        "kf.split(data)\n",
        "svd = SVD()\n",
        "cross_validate(svd, data, measures=['RMSE', 'MAE'])"
      ],
      "execution_count": 50,
      "outputs": [
        {
          "output_type": "execute_result",
          "data": {
            "text/plain": [
              "{'fit_time': (5.153843402862549,\n",
              "  5.127818584442139,\n",
              "  5.22000527381897,\n",
              "  5.103544473648071,\n",
              "  5.227070569992065),\n",
              " 'test_mae': array([0.68612684, 0.69088684, 0.6898814 , 0.694451  , 0.68456245]),\n",
              " 'test_rmse': array([0.8920593 , 0.89756912, 0.89576762, 0.90176301, 0.89083361]),\n",
              " 'test_time': (0.13805842399597168,\n",
              "  0.13768649101257324,\n",
              "  0.1369946002960205,\n",
              "  0.13689661026000977,\n",
              "  0.13690805435180664)}"
            ]
          },
          "metadata": {
            "tags": []
          },
          "execution_count": 50
        }
      ]
    },
    {
      "cell_type": "code",
      "metadata": {
        "id": "FIMLv7fbTMSt",
        "colab_type": "code",
        "colab": {
          "base_uri": "https://localhost:8080/",
          "height": 34
        },
        "outputId": "7c475c36-f296-4c85-9cea-7fa1febcf068"
      },
      "source": [
        "trainset = data.build_full_trainset()\n",
        "svd.fit(trainset)"
      ],
      "execution_count": 51,
      "outputs": [
        {
          "output_type": "execute_result",
          "data": {
            "text/plain": [
              "<surprise.prediction_algorithms.matrix_factorization.SVD at 0x7f9bb89c2eb8>"
            ]
          },
          "metadata": {
            "tags": []
          },
          "execution_count": 51
        }
      ]
    },
    {
      "cell_type": "code",
      "metadata": {
        "id": "iRcK104-UMnw",
        "colab_type": "code",
        "colab": {
          "base_uri": "https://localhost:8080/",
          "height": 647
        },
        "outputId": "39d6a7bb-c743-4a78-fe94-0b365083b5db"
      },
      "source": [
        "rating[rating['userId'] == 1]"
      ],
      "execution_count": 53,
      "outputs": [
        {
          "output_type": "execute_result",
          "data": {
            "text/html": [
              "<div>\n",
              "<style scoped>\n",
              "    .dataframe tbody tr th:only-of-type {\n",
              "        vertical-align: middle;\n",
              "    }\n",
              "\n",
              "    .dataframe tbody tr th {\n",
              "        vertical-align: top;\n",
              "    }\n",
              "\n",
              "    .dataframe thead th {\n",
              "        text-align: right;\n",
              "    }\n",
              "</style>\n",
              "<table border=\"1\" class=\"dataframe\">\n",
              "  <thead>\n",
              "    <tr style=\"text-align: right;\">\n",
              "      <th></th>\n",
              "      <th>userId</th>\n",
              "      <th>movieId</th>\n",
              "      <th>rating</th>\n",
              "      <th>timestamp</th>\n",
              "    </tr>\n",
              "  </thead>\n",
              "  <tbody>\n",
              "    <tr>\n",
              "      <th>0</th>\n",
              "      <td>1</td>\n",
              "      <td>31</td>\n",
              "      <td>2.5</td>\n",
              "      <td>1260759144</td>\n",
              "    </tr>\n",
              "    <tr>\n",
              "      <th>1</th>\n",
              "      <td>1</td>\n",
              "      <td>1029</td>\n",
              "      <td>3.0</td>\n",
              "      <td>1260759179</td>\n",
              "    </tr>\n",
              "    <tr>\n",
              "      <th>2</th>\n",
              "      <td>1</td>\n",
              "      <td>1061</td>\n",
              "      <td>3.0</td>\n",
              "      <td>1260759182</td>\n",
              "    </tr>\n",
              "    <tr>\n",
              "      <th>3</th>\n",
              "      <td>1</td>\n",
              "      <td>1129</td>\n",
              "      <td>2.0</td>\n",
              "      <td>1260759185</td>\n",
              "    </tr>\n",
              "    <tr>\n",
              "      <th>4</th>\n",
              "      <td>1</td>\n",
              "      <td>1172</td>\n",
              "      <td>4.0</td>\n",
              "      <td>1260759205</td>\n",
              "    </tr>\n",
              "    <tr>\n",
              "      <th>5</th>\n",
              "      <td>1</td>\n",
              "      <td>1263</td>\n",
              "      <td>2.0</td>\n",
              "      <td>1260759151</td>\n",
              "    </tr>\n",
              "    <tr>\n",
              "      <th>6</th>\n",
              "      <td>1</td>\n",
              "      <td>1287</td>\n",
              "      <td>2.0</td>\n",
              "      <td>1260759187</td>\n",
              "    </tr>\n",
              "    <tr>\n",
              "      <th>7</th>\n",
              "      <td>1</td>\n",
              "      <td>1293</td>\n",
              "      <td>2.0</td>\n",
              "      <td>1260759148</td>\n",
              "    </tr>\n",
              "    <tr>\n",
              "      <th>8</th>\n",
              "      <td>1</td>\n",
              "      <td>1339</td>\n",
              "      <td>3.5</td>\n",
              "      <td>1260759125</td>\n",
              "    </tr>\n",
              "    <tr>\n",
              "      <th>9</th>\n",
              "      <td>1</td>\n",
              "      <td>1343</td>\n",
              "      <td>2.0</td>\n",
              "      <td>1260759131</td>\n",
              "    </tr>\n",
              "    <tr>\n",
              "      <th>10</th>\n",
              "      <td>1</td>\n",
              "      <td>1371</td>\n",
              "      <td>2.5</td>\n",
              "      <td>1260759135</td>\n",
              "    </tr>\n",
              "    <tr>\n",
              "      <th>11</th>\n",
              "      <td>1</td>\n",
              "      <td>1405</td>\n",
              "      <td>1.0</td>\n",
              "      <td>1260759203</td>\n",
              "    </tr>\n",
              "    <tr>\n",
              "      <th>12</th>\n",
              "      <td>1</td>\n",
              "      <td>1953</td>\n",
              "      <td>4.0</td>\n",
              "      <td>1260759191</td>\n",
              "    </tr>\n",
              "    <tr>\n",
              "      <th>13</th>\n",
              "      <td>1</td>\n",
              "      <td>2105</td>\n",
              "      <td>4.0</td>\n",
              "      <td>1260759139</td>\n",
              "    </tr>\n",
              "    <tr>\n",
              "      <th>14</th>\n",
              "      <td>1</td>\n",
              "      <td>2150</td>\n",
              "      <td>3.0</td>\n",
              "      <td>1260759194</td>\n",
              "    </tr>\n",
              "    <tr>\n",
              "      <th>15</th>\n",
              "      <td>1</td>\n",
              "      <td>2193</td>\n",
              "      <td>2.0</td>\n",
              "      <td>1260759198</td>\n",
              "    </tr>\n",
              "    <tr>\n",
              "      <th>16</th>\n",
              "      <td>1</td>\n",
              "      <td>2294</td>\n",
              "      <td>2.0</td>\n",
              "      <td>1260759108</td>\n",
              "    </tr>\n",
              "    <tr>\n",
              "      <th>17</th>\n",
              "      <td>1</td>\n",
              "      <td>2455</td>\n",
              "      <td>2.5</td>\n",
              "      <td>1260759113</td>\n",
              "    </tr>\n",
              "    <tr>\n",
              "      <th>18</th>\n",
              "      <td>1</td>\n",
              "      <td>2968</td>\n",
              "      <td>1.0</td>\n",
              "      <td>1260759200</td>\n",
              "    </tr>\n",
              "    <tr>\n",
              "      <th>19</th>\n",
              "      <td>1</td>\n",
              "      <td>3671</td>\n",
              "      <td>3.0</td>\n",
              "      <td>1260759117</td>\n",
              "    </tr>\n",
              "  </tbody>\n",
              "</table>\n",
              "</div>"
            ],
            "text/plain": [
              "    userId  movieId  rating   timestamp\n",
              "0        1       31     2.5  1260759144\n",
              "1        1     1029     3.0  1260759179\n",
              "2        1     1061     3.0  1260759182\n",
              "3        1     1129     2.0  1260759185\n",
              "4        1     1172     4.0  1260759205\n",
              "5        1     1263     2.0  1260759151\n",
              "6        1     1287     2.0  1260759187\n",
              "7        1     1293     2.0  1260759148\n",
              "8        1     1339     3.5  1260759125\n",
              "9        1     1343     2.0  1260759131\n",
              "10       1     1371     2.5  1260759135\n",
              "11       1     1405     1.0  1260759203\n",
              "12       1     1953     4.0  1260759191\n",
              "13       1     2105     4.0  1260759139\n",
              "14       1     2150     3.0  1260759194\n",
              "15       1     2193     2.0  1260759198\n",
              "16       1     2294     2.0  1260759108\n",
              "17       1     2455     2.5  1260759113\n",
              "18       1     2968     1.0  1260759200\n",
              "19       1     3671     3.0  1260759117"
            ]
          },
          "metadata": {
            "tags": []
          },
          "execution_count": 53
        }
      ]
    },
    {
      "cell_type": "code",
      "metadata": {
        "id": "l63q23v8UVt-",
        "colab_type": "code",
        "colab": {
          "base_uri": "https://localhost:8080/",
          "height": 34
        },
        "outputId": "17abe60e-e3ec-4753-babf-12023d70fd9b"
      },
      "source": [
        "svd.predict(1, 302, 3)"
      ],
      "execution_count": 56,
      "outputs": [
        {
          "output_type": "execute_result",
          "data": {
            "text/plain": [
              "Prediction(uid=1, iid=302, r_ui=3, est=2.907881008216766, details={'was_impossible': False})"
            ]
          },
          "metadata": {
            "tags": []
          },
          "execution_count": 56
        }
      ]
    }
  ]
}